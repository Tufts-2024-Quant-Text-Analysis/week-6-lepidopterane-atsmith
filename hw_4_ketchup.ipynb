{
 "cells": [
  {
   "cell_type": "markdown",
   "metadata": {},
   "source": [
    "# Overdue HW 4 (oops :[ )"
   ]
  },
  {
   "cell_type": "markdown",
   "metadata": {},
   "source": [
    "\n",
    "## Exercises\n",
    "\n",
    "You may work in groups for these exercises. They are due at the beginning of next class. You can submit them as a link to a Colab notebook or GitHub CodeSpace.\n",
    "\n",
    "0. Use the corpora that you assembled last week (Pausanias++):\n",
    "1. Using programming techniques from the course so far, find other potential collocates for a word of your choice.\n",
    "2. Calculate the μ and Mutual Information scores for at least 5 of these collocate pairs. How do your results change depending on your definition of a collocation? What might these changes mean? (Write your answers to these questions down.)\n",
    "3. Calculate the Delta P for these same five pairs. Do any results stand out? Why? What might they tell us about your corpus.\n"
   ]
  },
  {
   "cell_type": "markdown",
   "metadata": {},
   "source": [
    "## 0"
   ]
  },
  {
   "cell_type": "code",
   "execution_count": 3,
   "metadata": {},
   "outputs": [
    {
     "name": "stdout",
     "output_type": "stream",
     "text": [
      "Requirement already satisfied: appnope==0.1.4 in ./.conda/lib/python3.11/site-packages (from -r requirements.txt (line 1)) (0.1.4)\n",
      "Requirement already satisfied: asttokens==2.4.1 in ./.conda/lib/python3.11/site-packages (from -r requirements.txt (line 2)) (2.4.1)\n",
      "Requirement already satisfied: comm==0.2.2 in ./.conda/lib/python3.11/site-packages (from -r requirements.txt (line 3)) (0.2.2)\n",
      "Requirement already satisfied: contourpy==1.3.0 in ./.conda/lib/python3.11/site-packages (from -r requirements.txt (line 4)) (1.3.0)\n",
      "Requirement already satisfied: cycler==0.12.1 in ./.conda/lib/python3.11/site-packages (from -r requirements.txt (line 5)) (0.12.1)\n",
      "Requirement already satisfied: debugpy==1.8.7 in ./.conda/lib/python3.11/site-packages (from -r requirements.txt (line 6)) (1.8.7)\n",
      "Requirement already satisfied: decorator==5.1.1 in ./.conda/lib/python3.11/site-packages (from -r requirements.txt (line 7)) (5.1.1)\n",
      "Requirement already satisfied: executing==2.1.0 in ./.conda/lib/python3.11/site-packages (from -r requirements.txt (line 8)) (2.1.0)\n",
      "Requirement already satisfied: fonttools==4.54.1 in ./.conda/lib/python3.11/site-packages (from -r requirements.txt (line 9)) (4.54.1)\n",
      "Requirement already satisfied: ipykernel==6.29.5 in ./.conda/lib/python3.11/site-packages (from -r requirements.txt (line 10)) (6.29.5)\n",
      "Requirement already satisfied: ipython==8.29.0 in ./.conda/lib/python3.11/site-packages (from -r requirements.txt (line 11)) (8.29.0)\n",
      "Requirement already satisfied: jedi==0.19.1 in ./.conda/lib/python3.11/site-packages (from -r requirements.txt (line 12)) (0.19.1)\n",
      "Requirement already satisfied: joblib==1.4.2 in ./.conda/lib/python3.11/site-packages (from -r requirements.txt (line 13)) (1.4.2)\n",
      "Requirement already satisfied: jupyter_client==8.6.3 in ./.conda/lib/python3.11/site-packages (from -r requirements.txt (line 14)) (8.6.3)\n",
      "Requirement already satisfied: jupyter_core==5.7.2 in ./.conda/lib/python3.11/site-packages (from -r requirements.txt (line 15)) (5.7.2)\n",
      "Requirement already satisfied: kiwisolver==1.4.7 in ./.conda/lib/python3.11/site-packages (from -r requirements.txt (line 16)) (1.4.7)\n",
      "Requirement already satisfied: lxml==5.3.0 in ./.conda/lib/python3.11/site-packages (from -r requirements.txt (line 17)) (5.3.0)\n",
      "Requirement already satisfied: matplotlib==3.9.2 in ./.conda/lib/python3.11/site-packages (from -r requirements.txt (line 18)) (3.9.2)\n",
      "Requirement already satisfied: matplotlib-inline==0.1.7 in ./.conda/lib/python3.11/site-packages (from -r requirements.txt (line 19)) (0.1.7)\n",
      "Collecting MyCapytain (from -r requirements.txt (line 20))\n",
      "  Downloading MyCapytain-3.0.2.tar.gz (58 kB)\n",
      "  Preparing metadata (setup.py) ... \u001b[?25ldone\n",
      "\u001b[?25hRequirement already satisfied: nest-asyncio==1.6.0 in ./.conda/lib/python3.11/site-packages (from -r requirements.txt (line 21)) (1.6.0)\n",
      "Requirement already satisfied: numpy==2.1.2 in ./.conda/lib/python3.11/site-packages (from -r requirements.txt (line 22)) (2.1.2)\n",
      "Requirement already satisfied: packaging==24.1 in ./.conda/lib/python3.11/site-packages (from -r requirements.txt (line 23)) (24.1)\n",
      "Requirement already satisfied: pandas==2.2.3 in ./.conda/lib/python3.11/site-packages (from -r requirements.txt (line 24)) (2.2.3)\n",
      "Requirement already satisfied: parso==0.8.4 in ./.conda/lib/python3.11/site-packages (from -r requirements.txt (line 25)) (0.8.4)\n",
      "Requirement already satisfied: pexpect==4.9.0 in ./.conda/lib/python3.11/site-packages (from -r requirements.txt (line 26)) (4.9.0)\n",
      "Requirement already satisfied: pillow==11.0.0 in ./.conda/lib/python3.11/site-packages (from -r requirements.txt (line 27)) (11.0.0)\n",
      "Requirement already satisfied: platformdirs==4.3.6 in ./.conda/lib/python3.11/site-packages (from -r requirements.txt (line 28)) (4.3.6)\n",
      "Requirement already satisfied: prompt_toolkit==3.0.48 in ./.conda/lib/python3.11/site-packages (from -r requirements.txt (line 29)) (3.0.48)\n",
      "Requirement already satisfied: psutil==6.1.0 in ./.conda/lib/python3.11/site-packages (from -r requirements.txt (line 30)) (6.1.0)\n",
      "Requirement already satisfied: ptyprocess==0.7.0 in ./.conda/lib/python3.11/site-packages (from -r requirements.txt (line 31)) (0.7.0)\n",
      "Requirement already satisfied: pure_eval==0.2.3 in ./.conda/lib/python3.11/site-packages (from -r requirements.txt (line 32)) (0.2.3)\n",
      "Requirement already satisfied: Pygments==2.18.0 in ./.conda/lib/python3.11/site-packages (from -r requirements.txt (line 33)) (2.18.0)\n",
      "Requirement already satisfied: pyparsing==3.2.0 in ./.conda/lib/python3.11/site-packages (from -r requirements.txt (line 34)) (3.2.0)\n",
      "Requirement already satisfied: python-dateutil==2.9.0.post0 in ./.conda/lib/python3.11/site-packages (from -r requirements.txt (line 35)) (2.9.0.post0)\n",
      "Requirement already satisfied: pytz==2024.2 in ./.conda/lib/python3.11/site-packages (from -r requirements.txt (line 36)) (2024.2)\n",
      "Requirement already satisfied: pyzmq==26.2.0 in ./.conda/lib/python3.11/site-packages (from -r requirements.txt (line 37)) (26.2.0)\n",
      "Requirement already satisfied: scikit-learn==1.5.2 in ./.conda/lib/python3.11/site-packages (from -r requirements.txt (line 38)) (1.5.2)\n",
      "Requirement already satisfied: scipy==1.14.1 in ./.conda/lib/python3.11/site-packages (from -r requirements.txt (line 39)) (1.14.1)\n",
      "Requirement already satisfied: six==1.16.0 in ./.conda/lib/python3.11/site-packages (from -r requirements.txt (line 40)) (1.16.0)\n",
      "Requirement already satisfied: stack-data==0.6.3 in ./.conda/lib/python3.11/site-packages (from -r requirements.txt (line 41)) (0.6.3)\n",
      "Requirement already satisfied: threadpoolctl==3.5.0 in ./.conda/lib/python3.11/site-packages (from -r requirements.txt (line 42)) (3.5.0)\n",
      "Requirement already satisfied: tornado==6.4.1 in ./.conda/lib/python3.11/site-packages (from -r requirements.txt (line 43)) (6.4.1)\n",
      "Requirement already satisfied: traitlets==5.14.3 in ./.conda/lib/python3.11/site-packages (from -r requirements.txt (line 44)) (5.14.3)\n",
      "Requirement already satisfied: tzdata==2024.2 in ./.conda/lib/python3.11/site-packages (from -r requirements.txt (line 45)) (2024.2)\n",
      "Requirement already satisfied: wcwidth==0.2.13 in ./.conda/lib/python3.11/site-packages (from -r requirements.txt (line 46)) (0.2.13)\n",
      "Requirement already satisfied: typing-extensions>=4.6 in ./.conda/lib/python3.11/site-packages (from ipython==8.29.0->-r requirements.txt (line 11)) (4.12.2)\n",
      "Collecting requests>=2.8.1 (from MyCapytain->-r requirements.txt (line 20))\n",
      "  Downloading requests-2.32.3-py3-none-any.whl.metadata (4.6 kB)\n",
      "Collecting future>=0.16.0 (from MyCapytain->-r requirements.txt (line 20))\n",
      "  Downloading future-1.0.0-py3-none-any.whl.metadata (4.0 kB)\n",
      "Collecting rdflib-jsonld>=0.4.0 (from MyCapytain->-r requirements.txt (line 20))\n",
      "  Downloading rdflib_jsonld-0.6.2-py2.py3-none-any.whl.metadata (3.4 kB)\n",
      "Collecting LinkHeader>=0.4.3 (from MyCapytain->-r requirements.txt (line 20))\n",
      "  Downloading LinkHeader-0.4.3.tar.gz (4.2 kB)\n",
      "  Preparing metadata (setup.py) ... \u001b[?25ldone\n",
      "\u001b[?25hCollecting pyld>=1.0.3 (from MyCapytain->-r requirements.txt (line 20))\n",
      "  Downloading PyLD-2.0.4-py3-none-any.whl.metadata (10.0 kB)\n",
      "Collecting typing (from MyCapytain->-r requirements.txt (line 20))\n",
      "  Downloading typing-3.7.4.3.tar.gz (78 kB)\n",
      "  Preparing metadata (setup.py) ... \u001b[?25ldone\n",
      "\u001b[?25hCollecting cachetools (from pyld>=1.0.3->MyCapytain->-r requirements.txt (line 20))\n",
      "  Downloading cachetools-5.5.0-py3-none-any.whl.metadata (5.3 kB)\n",
      "Collecting frozendict (from pyld>=1.0.3->MyCapytain->-r requirements.txt (line 20))\n",
      "  Downloading frozendict-2.4.6-py311-none-any.whl.metadata (23 kB)\n",
      "Collecting rdflib>=5.0.0 (from rdflib-jsonld>=0.4.0->MyCapytain->-r requirements.txt (line 20))\n",
      "  Downloading rdflib-7.1.1-py3-none-any.whl.metadata (11 kB)\n",
      "Collecting charset-normalizer<4,>=2 (from requests>=2.8.1->MyCapytain->-r requirements.txt (line 20))\n",
      "  Downloading charset_normalizer-3.4.0-cp311-cp311-manylinux_2_17_x86_64.manylinux2014_x86_64.whl.metadata (34 kB)\n",
      "Collecting idna<4,>=2.5 (from requests>=2.8.1->MyCapytain->-r requirements.txt (line 20))\n",
      "  Downloading idna-3.10-py3-none-any.whl.metadata (10 kB)\n",
      "Collecting urllib3<3,>=1.21.1 (from requests>=2.8.1->MyCapytain->-r requirements.txt (line 20))\n",
      "  Downloading urllib3-2.2.3-py3-none-any.whl.metadata (6.5 kB)\n",
      "Collecting certifi>=2017.4.17 (from requests>=2.8.1->MyCapytain->-r requirements.txt (line 20))\n",
      "  Using cached certifi-2024.8.30-py3-none-any.whl.metadata (2.2 kB)\n",
      "Downloading future-1.0.0-py3-none-any.whl (491 kB)\n",
      "Downloading PyLD-2.0.4-py3-none-any.whl (70 kB)\n",
      "Downloading rdflib_jsonld-0.6.2-py2.py3-none-any.whl (4.0 kB)\n",
      "Downloading requests-2.32.3-py3-none-any.whl (64 kB)\n",
      "Using cached certifi-2024.8.30-py3-none-any.whl (167 kB)\n",
      "Downloading charset_normalizer-3.4.0-cp311-cp311-manylinux_2_17_x86_64.manylinux2014_x86_64.whl (142 kB)\n",
      "Downloading idna-3.10-py3-none-any.whl (70 kB)\n",
      "Downloading rdflib-7.1.1-py3-none-any.whl (562 kB)\n",
      "\u001b[2K   \u001b[90m━━━━━━━━━━━━━━━━━━━━━━━━━━━━━━━━━━━━━━━━\u001b[0m \u001b[32m562.4/562.4 kB\u001b[0m \u001b[31m19.2 MB/s\u001b[0m eta \u001b[36m0:00:00\u001b[0m\n",
      "\u001b[?25hDownloading urllib3-2.2.3-py3-none-any.whl (126 kB)\n",
      "Downloading cachetools-5.5.0-py3-none-any.whl (9.5 kB)\n",
      "Downloading frozendict-2.4.6-py311-none-any.whl (16 kB)\n",
      "Building wheels for collected packages: MyCapytain, LinkHeader, typing\n",
      "  Building wheel for MyCapytain (setup.py) ... \u001b[?25ldone\n",
      "\u001b[?25h  Created wheel for MyCapytain: filename=MyCapytain-3.0.2-py3-none-any.whl size=79676 sha256=c330d8c63a0779b2e40e70622511f19d985d37fc391a87e81eb96d2bc3028837\n",
      "  Stored in directory: /home/codespace/.cache/pip/wheels/fa/bd/e8/b00dcc7f35402008e260036a3889b274b460ed8a954084ae17\n",
      "  Building wheel for LinkHeader (setup.py) ... \u001b[?25ldone\n",
      "\u001b[?25h  Created wheel for LinkHeader: filename=LinkHeader-0.4.3-py3-none-any.whl size=4787 sha256=cbd51dbd6c076b2ca2b3d7b387c3c984c6572ea712ad4b323ca00697c44782f8\n",
      "  Stored in directory: /home/codespace/.cache/pip/wheels/cd/58/bd/50fb033e129108ae37dd8891dc93f80de60a61866c6580bbf6\n",
      "  Building wheel for typing (setup.py) ... \u001b[?25ldone\n",
      "\u001b[?25h  Created wheel for typing: filename=typing-3.7.4.3-py3-none-any.whl size=26303 sha256=eaba4c5e68c00581c1983ef241c1d29d73e990693f8a831b7ecc5e3a10846c09\n",
      "  Stored in directory: /home/codespace/.cache/pip/wheels/9d/67/2f/53e3ef32ec48d11d7d60245255e2d71e908201d20c880c08ee\n",
      "Successfully built MyCapytain LinkHeader typing\n",
      "Installing collected packages: LinkHeader, urllib3, typing, rdflib, idna, future, frozendict, charset-normalizer, certifi, cachetools, requests, rdflib-jsonld, pyld, MyCapytain\n",
      "Successfully installed LinkHeader-0.4.3 MyCapytain-3.0.2 cachetools-5.5.0 certifi-2024.8.30 charset-normalizer-3.4.0 frozendict-2.4.6 future-1.0.0 idna-3.10 pyld-2.0.4 rdflib-7.1.1 rdflib-jsonld-0.6.2 requests-2.32.3 typing-3.7.4.3 urllib3-2.2.3\n",
      "Note: you may need to restart the kernel to use updated packages.\n"
     ]
    }
   ],
   "source": [
    "%pip install -r requirements.txt"
   ]
  },
  {
   "cell_type": "code",
   "execution_count": 5,
   "metadata": {},
   "outputs": [
    {
     "ename": "FileNotFoundError",
     "evalue": "[Errno 2] No such file or directory: '/tei/tlg0525.tlg001.perseus-grc2.xml'",
     "output_type": "error",
     "traceback": [
      "\u001b[0;31m---------------------------------------------------------------------------\u001b[0m",
      "\u001b[0;31mFileNotFoundError\u001b[0m                         Traceback (most recent call last)",
      "Cell \u001b[0;32mIn[5], line 6\u001b[0m\n\u001b[1;32m      3\u001b[0m \u001b[38;5;28;01mfrom\u001b[39;00m \u001b[38;5;21;01mMyCapytain\u001b[39;00m\u001b[38;5;21;01m.\u001b[39;00m\u001b[38;5;21;01mresources\u001b[39;00m\u001b[38;5;21;01m.\u001b[39;00m\u001b[38;5;21;01mtexts\u001b[39;00m\u001b[38;5;21;01m.\u001b[39;00m\u001b[38;5;21;01mlocal\u001b[39;00m\u001b[38;5;21;01m.\u001b[39;00m\u001b[38;5;21;01mcapitains\u001b[39;00m\u001b[38;5;21;01m.\u001b[39;00m\u001b[38;5;21;01mcts\u001b[39;00m \u001b[38;5;28;01mimport\u001b[39;00m CapitainsCtsText\n\u001b[1;32m      4\u001b[0m \u001b[38;5;28;01mimport\u001b[39;00m \u001b[38;5;21;01mpandas\u001b[39;00m \u001b[38;5;28;01mas\u001b[39;00m \u001b[38;5;21;01mpd\u001b[39;00m\n\u001b[0;32m----> 6\u001b[0m \u001b[38;5;28;01mwith\u001b[39;00m \u001b[38;5;28;43mopen\u001b[39;49m\u001b[43m(\u001b[49m\u001b[38;5;124;43m\"\u001b[39;49m\u001b[38;5;124;43m/tei/tlg0525.tlg001.perseus-grc2.xml\u001b[39;49m\u001b[38;5;124;43m\"\u001b[39;49m\u001b[43m)\u001b[49m \u001b[38;5;28;01mas\u001b[39;00m f:\n\u001b[1;32m      7\u001b[0m     text \u001b[38;5;241m=\u001b[39m CapitainsCtsText(urn\u001b[38;5;241m=\u001b[39m\u001b[38;5;124m\"\u001b[39m\u001b[38;5;124murn:cts:greekLit:tlg0525.tlg001.perseus-grc2\u001b[39m\u001b[38;5;124m\"\u001b[39m, resource\u001b[38;5;241m=\u001b[39mf)\n\u001b[1;32m      9\u001b[0m urns \u001b[38;5;241m=\u001b[39m []\n",
      "File \u001b[0;32m/workspaces/week-6-lepidopterane-atsmith/.conda/lib/python3.11/site-packages/IPython/core/interactiveshell.py:324\u001b[0m, in \u001b[0;36m_modified_open\u001b[0;34m(file, *args, **kwargs)\u001b[0m\n\u001b[1;32m    317\u001b[0m \u001b[38;5;28;01mif\u001b[39;00m file \u001b[38;5;129;01min\u001b[39;00m {\u001b[38;5;241m0\u001b[39m, \u001b[38;5;241m1\u001b[39m, \u001b[38;5;241m2\u001b[39m}:\n\u001b[1;32m    318\u001b[0m     \u001b[38;5;28;01mraise\u001b[39;00m \u001b[38;5;167;01mValueError\u001b[39;00m(\n\u001b[1;32m    319\u001b[0m         \u001b[38;5;124mf\u001b[39m\u001b[38;5;124m\"\u001b[39m\u001b[38;5;124mIPython won\u001b[39m\u001b[38;5;124m'\u001b[39m\u001b[38;5;124mt let you open fd=\u001b[39m\u001b[38;5;132;01m{\u001b[39;00mfile\u001b[38;5;132;01m}\u001b[39;00m\u001b[38;5;124m by default \u001b[39m\u001b[38;5;124m\"\u001b[39m\n\u001b[1;32m    320\u001b[0m         \u001b[38;5;124m\"\u001b[39m\u001b[38;5;124mas it is likely to crash IPython. If you know what you are doing, \u001b[39m\u001b[38;5;124m\"\u001b[39m\n\u001b[1;32m    321\u001b[0m         \u001b[38;5;124m\"\u001b[39m\u001b[38;5;124myou can use builtins\u001b[39m\u001b[38;5;124m'\u001b[39m\u001b[38;5;124m open.\u001b[39m\u001b[38;5;124m\"\u001b[39m\n\u001b[1;32m    322\u001b[0m     )\n\u001b[0;32m--> 324\u001b[0m \u001b[38;5;28;01mreturn\u001b[39;00m \u001b[43mio_open\u001b[49m\u001b[43m(\u001b[49m\u001b[43mfile\u001b[49m\u001b[43m,\u001b[49m\u001b[43m \u001b[49m\u001b[38;5;241;43m*\u001b[39;49m\u001b[43margs\u001b[49m\u001b[43m,\u001b[49m\u001b[43m \u001b[49m\u001b[38;5;241;43m*\u001b[39;49m\u001b[38;5;241;43m*\u001b[39;49m\u001b[43mkwargs\u001b[49m\u001b[43m)\u001b[49m\n",
      "\u001b[0;31mFileNotFoundError\u001b[0m: [Errno 2] No such file or directory: '/tei/tlg0525.tlg001.perseus-grc2.xml'"
     ]
    }
   ],
   "source": [
    "from lxml import etree\n",
    "from MyCapytain.common.constants import Mimetypes\n",
    "from MyCapytain.resources.texts.local.capitains.cts import CapitainsCtsText\n",
    "import pandas as pd\n",
    "\n",
    "with open(\"/tei/tlg0525.tlg001.perseus-grc2.xml\") as f:\n",
    "    text = CapitainsCtsText(urn=\"urn:cts:greekLit:tlg0525.tlg001.perseus-grc2\", resource=f)\n",
    "\n",
    "urns = []\n",
    "raw_xmls = []\n",
    "unannotated_strings = []\n",
    "\n",
    "for ref in text.getReffs(level=len(text.citation)):\n",
    "    urn = f\"{text.urn}:{ref}\"\n",
    "    node = text.getTextualNode(ref)\n",
    "    raw_xml = node.export(Mimetypes.XML.TEI)\n",
    "    tree = node.export(Mimetypes.PYTHON.ETREE)\n",
    "    s = etree.tostring(tree, encoding=\"unicode\", method=\"text\")\n",
    "\n",
    "    urns.append(urn)\n",
    "    raw_xmls.append(raw_xml)\n",
    "    unannotated_strings.append(s)\n",
    "\n",
    "d = {\n",
    "    \"urn\": pd.Series(urns, dtype=\"string\"),\n",
    "    \"raw_xml\": raw_xmls,\n",
    "    \"unannotated_strings\": pd.Series(unannotated_strings, dtype=\"string\")\n",
    "}\n",
    "pausanias_df = pd.DataFrame(d)\n",
    "pausanias_df['whitespaced_tokens'] = pausanias_df['unannotated_strings'].str.split()\n",
    "pausanias_df"
   ]
  },
  {
   "cell_type": "markdown",
   "metadata": {},
   "source": [
    "## 1"
   ]
  },
  {
   "cell_type": "markdown",
   "metadata": {},
   "source": [
    "## 2"
   ]
  },
  {
   "cell_type": "markdown",
   "metadata": {},
   "source": [
    "## 3"
   ]
  }
 ],
 "metadata": {
  "kernelspec": {
   "display_name": "Python 3",
   "language": "python",
   "name": "python3"
  },
  "language_info": {
   "codemirror_mode": {
    "name": "ipython",
    "version": 3
   },
   "file_extension": ".py",
   "mimetype": "text/x-python",
   "name": "python",
   "nbconvert_exporter": "python",
   "pygments_lexer": "ipython3",
   "version": "3.11.10"
  }
 },
 "nbformat": 4,
 "nbformat_minor": 2
}
