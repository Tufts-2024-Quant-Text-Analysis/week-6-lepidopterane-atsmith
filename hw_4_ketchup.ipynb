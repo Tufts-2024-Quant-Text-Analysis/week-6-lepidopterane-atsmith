{
 "cells": [
  {
   "cell_type": "markdown",
   "metadata": {},
   "source": [
    "# Overdue HW 4 (oops :[ )"
   ]
  },
  {
   "cell_type": "markdown",
   "metadata": {},
   "source": [
    "\n",
    "## Exercises\n",
    "\n",
    "You may work in groups for these exercises. They are due at the beginning of next class. You can submit them as a link to a Colab notebook or GitHub CodeSpace.\n",
    "\n",
    "0. Use the corpora that you assembled last week (Pausanias++):\n",
    "1. Using programming techniques from the course so far, find other potential collocates for a word of your choice.\n",
    "2. Calculate the μ and Mutual Information scores for at least 5 of these collocate pairs. How do your results change depending on your definition of a collocation? What might these changes mean? (Write your answers to these questions down.)\n",
    "3. Calculate the Delta P for these same five pairs. Do any results stand out? Why? What might they tell us about your corpus.\n"
   ]
  },
  {
   "cell_type": "markdown",
   "metadata": {},
   "source": [
    "## 0"
   ]
  },
  {
   "cell_type": "code",
   "execution_count": null,
   "metadata": {},
   "outputs": [],
   "source": [
    "%pip install pip==24.0\n",
    "%pip install -r requirements.txt\n",
    "%run -m grecy install grc_proiel_sm"
   ]
  },
  {
   "cell_type": "code",
   "execution_count": 2,
   "metadata": {},
   "outputs": [],
   "source": [
    "from lxml import etree\n",
    "from MyCapytain.common.constants import Mimetypes\n",
    "from MyCapytain.resources.texts.local.capitains.cts import CapitainsCtsText\n",
    "import pandas as pd\n",
    "\n",
    "with open(\"tlg0525.tlg001.perseus-grc2.xml\") as f:\n",
    "    text = CapitainsCtsText(urn=\"urn:cts:greekLit:tlg0525.tlg001.perseus-grc2\", resource=f)\n",
    "\n",
    "urns = []\n",
    "raw_xmls = []\n",
    "unannotated_strings = []\n",
    "\n",
    "for ref in text.getReffs(level=len(text.citation)):\n",
    "    urn = f\"{text.urn}:{ref}\"\n",
    "    node = text.getTextualNode(ref)\n",
    "    raw_xml = node.export(Mimetypes.XML.TEI)\n",
    "    tree = node.export(Mimetypes.PYTHON.ETREE)\n",
    "    s = etree.tostring(tree, encoding=\"unicode\", method=\"text\")\n",
    "\n",
    "    urns.append(urn)\n",
    "    raw_xmls.append(raw_xml)\n",
    "    unannotated_strings.append(s)\n",
    "\n",
    "d = {\n",
    "    \"urn\": pd.Series(urns, dtype=\"string\"),\n",
    "    \"raw_xml\": raw_xmls,\n",
    "    \"unannotated_strings\": pd.Series(unannotated_strings, dtype=\"string\")\n",
    "}\n",
    "pausanias_df = pd.DataFrame(d)\n",
    "pausanias_df['whitespaced_tokens'] = pausanias_df['unannotated_strings'].str.split()\n",
    "#pausanias_df"
   ]
  },
  {
   "cell_type": "code",
   "execution_count": 3,
   "metadata": {},
   "outputs": [],
   "source": [
    "# this will take a while\n",
    "\n",
    "import spacy\n",
    "\n",
    "nlp = spacy.load(\"grc_proiel_sm\", disable=[\"ner\"])\n",
    "\n",
    "raw_texts = [t for t in pausanias_df['unannotated_strings']]\n",
    "annotated_texts = nlp.pipe(raw_texts, batch_size=100)\n",
    "\n",
    "pausanias_df['nlp_docs'] = list(annotated_texts)"
   ]
  },
  {
   "cell_type": "markdown",
   "metadata": {},
   "source": [
    "## 1\n",
    "Using programming techniques from the course so far, find other potential collocates for a word of your choice. "
   ]
  },
  {
   "cell_type": "code",
   "execution_count": 4,
   "metadata": {},
   "outputs": [],
   "source": [
    "from collections import Counter\n",
    "\n",
    "def lemma_tize(c):\n",
    "    return [b.lemma_ for b in c]\n",
    "\n",
    "test_token = pausanias_df['nlp_docs'][0][1]\n",
    "pausanias_df['my_lemmata'] = [lemma_tize(c) for c in pausanias_df['nlp_docs']]\n",
    "\n",
    "# we use a list comprehension to evaluate the generator at `test_token.children`\n",
    "f\"token: '{test_token}, {test_token.lemma_}', dependencies: {[(c, c.lemma_) for c in test_token.children]}\"\n",
    "\n",
    "# λόγος time\n",
    "#homer_son_lines = homer_df.loc[homer_df[\"unannotated_strings\"].str.contains('son', regex=False)]\n",
    "paus_word_lines = pausanias_df.loc[pausanias_df[\"my_lemmata\"].str.contains('λόγος', regex=False)]\n",
    "\n",
    "node_cnt = 0\n",
    "token_cnt = 0\n",
    "collocates = []\n",
    "for x in paus_word_lines['nlp_docs']:\n",
    "    for y in x:\n",
    "        token_cnt += 1\n",
    "        if y.lemma_ == 'λόγος':\n",
    "            collocates.extend([c.lemma_ for c in y.children])\n",
    "            node_cnt += 1\n",
    "        else:\n",
    "            if 'λόγος' in [d.lemma_ for d in y.children]:\n",
    "                collocates.append((y.lemma_))\n",
    "\n",
    "cnt_locates = Counter(collocates)\n",
    "#cnt_locates.most_common(20)\n",
    "# sarah's five collocates: ἔχω, δηλόω, λέγω, ποιέω, εἰμί"
   ]
  },
  {
   "cell_type": "markdown",
   "metadata": {},
   "source": [
    "## 2\n",
    "Calculate the μ and Mutual Information scores for at least 5 of these collocate pairs. "
   ]
  },
  {
   "cell_type": "code",
   "execution_count": 5,
   "metadata": {},
   "outputs": [
    {
     "name": "stdout",
     "output_type": "stream",
     "text": [
      "ἔχω  has a mu of  7.513978936145689  and a MI of  2.90957707169425\n",
      "δηλόω  has a mu of  38.363070539419084  and a MI of  5.261646291643503\n",
      "λέγω  has a mu of  4.296899346954497  and a MI of  2.103295982987964\n",
      "ποιέω  has a mu of  4.239655059234869  and a MI of  2.083946891067951\n",
      "εἰμί  has a mu of  0.7784178446231346  and a MI of  -0.3613833117284921\n"
     ]
    }
   ],
   "source": [
    "# sarah's five collocates: ['ἔχω', 'δηλόω', 'λέγω', 'ποιέω', 'εἰμί']\n",
    "\n",
    "# mu = observed frequency of both / expected frequency of both\n",
    "# e_11 = node count * 2 * collocate count / token count\n",
    "\n",
    "from math import log2\n",
    "\n",
    "node_cnt = 0\n",
    "token_cnt = 0\n",
    "collocate_dictionary = {'ἔχω': [0, 0], 'δηλόω':[0, 0], 'λέγω':[0, 0], 'ποιέω':[0, 0], 'εἰμί':[0, 0]}\n",
    "for x in pausanias_df['nlp_docs']:\n",
    "    for y in x:\n",
    "        token_cnt += 1\n",
    "        collocates = []\n",
    "        if y.lemma_ in collocate_dictionary:\n",
    "            collocate_dictionary[y.lemma_][0] += 1\n",
    "        if y.lemma_ == 'λόγος':\n",
    "            collocates.extend([c.lemma_ for c in y.children])\n",
    "            node_cnt += 1\n",
    "        elif 'λόγος' in [d.lemma_ for d in y.children]:\n",
    "            collocates.append((y.lemma_))\n",
    "        \n",
    "        for collocate in collocates:\n",
    "            if collocate in collocate_dictionary:\n",
    "                collocate_dictionary[collocate][1] += 1\n",
    "\n",
    "e_11s = []\n",
    "\n",
    "for key in collocate_dictionary:\n",
    "    e_11_num = node_cnt * 2 * collocate_dictionary[key][0]\n",
    "    final_e_11 = e_11_num/token_cnt\n",
    "    mu = collocate_dictionary[key][1] / final_e_11\n",
    "    mi = log2(mu)\n",
    "    print(key, \" has a mu of \", mu, \" and a MI of \", mi)\n",
    "\n"
   ]
  },
  {
   "cell_type": "markdown",
   "metadata": {},
   "source": [
    "How do your results change depending on your definition of a collocation? What might these changes mean? (Write your answers to these questions down.)\n",
    "\n",
    "Let's say we were to make our window size a little bigger. That means our observed collocations will either grow or stay about the same, while the number of expected collocations will get bigger because our window size is a factor multiplied in the numerator of this equation, observed collocations will impact this score in one of two ways. If the number of observed collocations grows significantly, a numerator growing at the same rate as the denominator is likely, and the ratio stays the same. However, if the window size does not significantly affect the number of observed collocations, MU will shrink, since the observed frequency stays the same and the expected frequency grows."
   ]
  },
  {
   "cell_type": "markdown",
   "metadata": {},
   "source": [
    "## 3\n",
    "Calculate the Delta P for these same five pairs. Do any results stand out? Why? What might they tell us about your corpus."
   ]
  },
  {
   "cell_type": "code",
   "execution_count": 9,
   "metadata": {},
   "outputs": [
    {
     "name": "stdout",
     "output_type": "stream",
     "text": [
      "ἔχω  has a Delta P of  0.06597511051048267  ;  0.027679882813743763\n",
      "δηλόω  has a Delta P of  0.0451369153664118  ;  0.1488095238095238\n",
      "λέγω  has a Delta P of  0.03673758676384054  ;  0.014986062825095438\n",
      "ποιέω  has a Delta P of  0.03667226571086517  ;  0.014761091113122795\n",
      "εἰμί  has a Delta P of  0.011896274911105092  ;  0.001117413089543416\n"
     ]
    },
    {
     "data": {
      "text/plain": [
       "<Axes: xlabel='x', ylabel='y'>"
      ]
     },
     "execution_count": 9,
     "metadata": {},
     "output_type": "execute_result"
    },
    {
     "data": {
      "image/png": "[encoded data removed]",
      "text/plain": [
       "<Figure size 640x480 with 1 Axes>"
      ]
     },
     "metadata": {},
     "output_type": "display_data"
    }
   ],
   "source": [
    "import seaborn as seaboo\n",
    "\n",
    "r1 = node_cnt \n",
    "r2 = token_cnt - node_cnt\n",
    "\n",
    "delta_p_as = []\n",
    "delta_p_bs = []\n",
    "\n",
    "for collocate in collocate_dictionary:\n",
    "    local_c1 = collocate_dictionary[collocate][0]\n",
    "    local_c2 = token_cnt - local_c1\n",
    "    local_o11 = collocate_dictionary[collocate][1]\n",
    "    local_o12 = r1 - local_o11\n",
    "    local_o21 = local_c1 - local_o11\n",
    "\n",
    "    delta_p_a = (local_o11 / r1) - (local_o21 / r2)\n",
    "    delta_p_b = (local_o11 / local_c1) - (local_o12 / local_c2)\n",
    "    delta_p_as.append(delta_p_a)\n",
    "    delta_p_bs.append(delta_p_b)\n",
    "    print(collocate, \" has a Delta P of \", delta_p_a, \" ; \", delta_p_b)\n",
    "\n",
    "delta_ps = pd.DataFrame({'x':pd.Series(delta_p_as), 'y':pd.Series(delta_p_bs)})\n",
    "seaboo.scatterplot(data = delta_ps, x='x',y='y')\n"
   ]
  },
  {
   "cell_type": "markdown",
   "metadata": {},
   "source": [
    "We have two outliers as determined by their strength in relation to both probabilistic scores, which you can see printed above and also visualized on this graph. In Pausanias, ἔχω (carry, bring) has the highest first probability, which means that it is more likely to see this word collocated with λόγος than others on this graph. However, δηλόω (show, make visible) has the highest second probability, which means that of all words δηλόω is collocated with, λόγος is more likely to be collocated with it than other collocates. The first statistic is more frequency-based (how often is the collocate found with the node) and the second statistic is more based on strength of association (how often does the collocate has the node as one of its collocates). This previous observation may seem like a minor distinction, but though δηλόω has a lower first score than ἔχω, that could mean that δηλόω appears less time in the text than ἔχω, but the percentage of  of δηλόω's collocates that are the node is higher than that same percentage for ἔχω, meaning that δηλόω may be a slightly more exclusive pair with the node than ἔχω. If time allows, I wish to calculate Delta P of collocates for my final project and compare both measures on how well they meet the goal of disentangling frequency from association strength."
   ]
  }
 ],
 "metadata": {
  "kernelspec": {
   "display_name": "Python 3",
   "language": "python",
   "name": "python3"
  },
  "language_info": {
   "codemirror_mode": {
    "name": "ipython",
    "version": 3
   },
   "file_extension": ".py",
   "mimetype": "text/x-python",
   "name": "python",
   "nbconvert_exporter": "python",
   "pygments_lexer": "ipython3",
   "version": "3.11.10"
  }
 },
 "nbformat": 4,
 "nbformat_minor": 2
}
